{
 "cells": [
  {
   "cell_type": "code",
   "execution_count": 1,
   "metadata": {},
   "outputs": [],
   "source": [
    "def extractData(data_as_lines):\n",
    "    solution_lengths = []\n",
    "    expanded_nodes = []\n",
    "\n",
    "    counter = 1\n",
    "    for line in data_as_lines:\n",
    "        if line.startswith(\"Solution\"): \n",
    "            this_solution_length = int(line[:-1].split(\" \")[-1])\n",
    "            solution_lengths.append(this_solution_length)\n",
    "            counter += 1\n",
    "        elif line.startswith(\"Unsolvable\"):\n",
    "            solution_lengths.append(float(\"inf\"))\n",
    "            counter += 1\n",
    "        if line.startswith(\"Number\"):\n",
    "            this_expanded_nodes = int(line[:-1].split(\" \")[-1])\n",
    "            expanded_nodes.append(this_expanded_nodes)\n",
    "    return solution_lengths, expanded_nodes"
   ]
  },
  {
   "cell_type": "code",
   "execution_count": 6,
   "metadata": {},
   "outputs": [
    {
     "data": {
      "text/html": [
       "<div>\n",
       "<style scoped>\n",
       "    .dataframe tbody tr th:only-of-type {\n",
       "        vertical-align: middle;\n",
       "    }\n",
       "\n",
       "    .dataframe tbody tr th {\n",
       "        vertical-align: top;\n",
       "    }\n",
       "\n",
       "    .dataframe thead th {\n",
       "        text-align: right;\n",
       "    }\n",
       "</style>\n",
       "<table border=\"1\" class=\"dataframe\">\n",
       "  <thead>\n",
       "    <tr style=\"text-align: right;\">\n",
       "      <th></th>\n",
       "      <th>steps</th>\n",
       "      <th>nodes</th>\n",
       "    </tr>\n",
       "  </thead>\n",
       "  <tbody>\n",
       "  </tbody>\n",
       "</table>\n",
       "</div>"
      ],
      "text/plain": [
       "Empty DataFrame\n",
       "Columns: [steps, nodes]\n",
       "Index: []"
      ]
     },
     "execution_count": 6,
     "metadata": {},
     "output_type": "execute_result"
    }
   ],
   "source": [
    "import pandas as pd\n",
    "\n",
    "df = pd.DataFrame({\n",
    "    'steps': [],\n",
    "    'nodes': []},\n",
    "index=[])\n",
    "\n",
    "df"
   ]
  },
  {
   "cell_type": "code",
   "execution_count": 3,
   "metadata": {},
   "outputs": [
    {
     "name": "stdout",
     "output_type": "stream",
     "text": [
      "[1, 0, 40, inf, 53, inf, 47, 90, 159, 19, 16, 912, 152, 576]\n",
      "[1, 0, 40, 41, 190, 181440, 68, 1073, 2551, 21, 19, 114652, 2336, 27007]\n",
      "[1, 0, 40, inf, 57, inf, 57, 64, 143, 91, 16, 912, 152, 576]\n",
      "[1, 0, 40, 41, 219, 181440, 109, 143, 477, 578, 19, 114652, 2336, 27007]\n",
      "[1, 0, 40, inf, 33, inf, 41, 56, 91, 335, 16, 912, 152, 576]\n",
      "[1, 0, 40, 41, 51, 181440, 66, 114, 894, 38999, 44, 114652, 2336, 27007]\n"
     ]
    }
   ],
   "source": [
    "files_names = [r\"manhattanHeuristic.txt\", \n",
    "               r\"smartHeuristic.txt\", \n",
    "               r\"superSmartHeuristic.txt\"\n",
    "              ]\n",
    "\n",
    "for file_name in files_names:\n",
    "    with open(file_name) as file:\n",
    "        lines = file.readlines()\n",
    "    solution_lengths, expanded_nodes = extractData(lines)\n",
    "    print(solution_lengths)\n",
    "    print(expanded_nodes)"
   ]
  }
 ],
 "metadata": {
  "kernelspec": {
   "display_name": "Python 3",
   "language": "python",
   "name": "python3"
  },
  "language_info": {
   "codemirror_mode": {
    "name": "ipython",
    "version": 3
   },
   "file_extension": ".py",
   "mimetype": "text/x-python",
   "name": "python",
   "nbconvert_exporter": "python",
   "pygments_lexer": "ipython3",
   "version": "3.6.5"
  }
 },
 "nbformat": 4,
 "nbformat_minor": 2
}
